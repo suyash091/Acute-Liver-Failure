{
  "nbformat": 4,
  "nbformat_minor": 0,
  "metadata": {
    "colab": {
      "name": "Cardiovascular Disease Prediction.ipynb",
      "provenance": [],
      "collapsed_sections": [],
      "toc_visible": true,
      "include_colab_link": true
    },
    "kernelspec": {
      "name": "python3",
      "display_name": "Python 3"
    },
    "accelerator": "GPU"
  },
  "cells": [
    {
      "cell_type": "markdown",
      "metadata": {
        "id": "view-in-github",
        "colab_type": "text"
      },
      "source": [
        "<a href=\"https://colab.research.google.com/github/suyash091/Acute-Liver-Failure/blob/master/Acute%20Liver%20Failure.ipynb\" target=\"_parent\"><img src=\"https://colab.research.google.com/assets/colab-badge.svg\" alt=\"Open In Colab\"/></a>"
      ]
    },
    {
      "cell_type": "markdown",
      "metadata": {
        "id": "2ihxoPWI0EOq",
        "colab_type": "text"
      },
      "source": [
        "#**IMPORTING THE DATASET**\n"
      ]
    },
    {
      "cell_type": "code",
      "metadata": {
        "id": "1fUMKp8g0W0n",
        "colab_type": "code",
        "outputId": "b1325550-04cb-434a-a54f-39804ee9552b",
        "colab": {
          "base_uri": "https://localhost:8080/",
          "height": 68
        }
      },
      "source": [
        "import os\n",
        "os.environ['KAGGLE_USERNAME'] = \"suyash091\"\n",
        "os.environ['KAGGLE_KEY'] = \"9775b0a6da90b12a0c284d71e498de43\"\n",
        "#!kaggle datasets download -d sulianova/cardiovascular-disease-dataset #CardioVascular\n",
        "#!kaggle datasets download -d ronitf/heart-disease-uci #Artilleryblockade"
      ],
      "execution_count": 21,
      "outputs": [
        {
          "output_type": "stream",
          "text": [
            "Downloading heart-disease-uci.zip to /content\n",
            "\r  0% 0.00/3.40k [00:00<?, ?B/s]\n",
            "\r100% 3.40k/3.40k [00:00<00:00, 2.87MB/s]\n"
          ],
          "name": "stdout"
        }
      ]
    },
    {
      "cell_type": "markdown",
      "metadata": {
        "id": "2TpZrUeO49jP",
        "colab_type": "text"
      },
      "source": [
        "**Extracting zipfile**"
      ]
    },
    {
      "cell_type": "code",
      "metadata": {
        "id": "6DlGlCnZ5GE3",
        "colab_type": "code",
        "colab": {}
      },
      "source": [
        "#!unzip -q '/content/cardiovascular-disease-dataset.zip' \n",
        "!unzip -q '/content/heart-disease-uci.zip'"
      ],
      "execution_count": 0,
      "outputs": []
    },
    {
      "cell_type": "code",
      "metadata": {
        "id": "MCOahQPn5n0c",
        "colab_type": "code",
        "colab": {}
      },
      "source": [
        "import pandas as pd"
      ],
      "execution_count": 0,
      "outputs": []
    },
    {
      "cell_type": "markdown",
      "metadata": {
        "id": "6O_kGB9B5Veb",
        "colab_type": "text"
      },
      "source": [
        "**Data Preprocessing**"
      ]
    },
    {
      "cell_type": "code",
      "metadata": {
        "id": "xY2b03vQ5azX",
        "colab_type": "code",
        "colab": {}
      },
      "source": [
        "#Fixing structure\n",
        "# Read in the file\n",
        "with open('/content/ALF_Data.csv', 'r') as file :\n",
        "  filedata = file.read()\n",
        "\n",
        "# Replace the target string\n",
        "filedata = filedata.replace(';', ',')\n",
        "\n",
        "# Write the file out again\n",
        "with open('/content/ALF_Data.csv', 'w') as file:\n",
        "  file.write(filedata)"
      ],
      "execution_count": 0,
      "outputs": []
    },
    {
      "cell_type": "code",
      "metadata": {
        "id": "EtxdlDft67IJ",
        "colab_type": "code",
        "outputId": "b2bad2ae-4bc7-470d-f480-0d632894dedf",
        "colab": {
          "base_uri": "https://localhost:8080/",
          "height": 351
        }
      },
      "source": [
        "#Load Data\n",
        "cvd=pd.read_csv('/content/ALF_Data.csv').dropna()#.apply(lambda x: x/x.max(), axis=0)\n",
        "cvd.describe()"
      ],
      "execution_count": 41,
      "outputs": [
        {
          "output_type": "execute_result",
          "data": {
            "text/html": [
              "<div>\n",
              "<style scoped>\n",
              "    .dataframe tbody tr th:only-of-type {\n",
              "        vertical-align: middle;\n",
              "    }\n",
              "\n",
              "    .dataframe tbody tr th {\n",
              "        vertical-align: top;\n",
              "    }\n",
              "\n",
              "    .dataframe thead th {\n",
              "        text-align: right;\n",
              "    }\n",
              "</style>\n",
              "<table border=\"1\" class=\"dataframe\">\n",
              "  <thead>\n",
              "    <tr style=\"text-align: right;\">\n",
              "      <th></th>\n",
              "      <th>Age</th>\n",
              "      <th>Weight</th>\n",
              "      <th>Height</th>\n",
              "      <th>Body Mass Index</th>\n",
              "      <th>Obesity</th>\n",
              "      <th>Waist</th>\n",
              "      <th>Maximum Blood Pressure</th>\n",
              "      <th>Minimum Blood Pressure</th>\n",
              "      <th>Good Cholesterol</th>\n",
              "      <th>Bad Cholesterol</th>\n",
              "      <th>Total Cholesterol</th>\n",
              "      <th>Dyslipidemia</th>\n",
              "      <th>PVD</th>\n",
              "      <th>Physical Activity</th>\n",
              "      <th>Education</th>\n",
              "      <th>Unmarried</th>\n",
              "      <th>Income</th>\n",
              "      <th>PoorVision</th>\n",
              "      <th>Alcohol Consumption</th>\n",
              "      <th>HyperTension</th>\n",
              "      <th>Family  HyperTension</th>\n",
              "      <th>Diabetes</th>\n",
              "      <th>Family Diabetes</th>\n",
              "      <th>Hepatitis</th>\n",
              "      <th>Family Hepatitis</th>\n",
              "      <th>Chronic Fatigue</th>\n",
              "      <th>ALF</th>\n",
              "    </tr>\n",
              "  </thead>\n",
              "  <tbody>\n",
              "    <tr>\n",
              "      <th>count</th>\n",
              "      <td>4322.000000</td>\n",
              "      <td>4322.000000</td>\n",
              "      <td>4322.000000</td>\n",
              "      <td>4322.000000</td>\n",
              "      <td>4322.000000</td>\n",
              "      <td>4322.000000</td>\n",
              "      <td>4322.000000</td>\n",
              "      <td>4322.000000</td>\n",
              "      <td>4322.000000</td>\n",
              "      <td>4322.000000</td>\n",
              "      <td>4322.000000</td>\n",
              "      <td>4322.000000</td>\n",
              "      <td>4322.000000</td>\n",
              "      <td>4322.000000</td>\n",
              "      <td>4322.000000</td>\n",
              "      <td>4322.000000</td>\n",
              "      <td>4322.000000</td>\n",
              "      <td>4322.000000</td>\n",
              "      <td>4322.000000</td>\n",
              "      <td>4322.000000</td>\n",
              "      <td>4322.000000</td>\n",
              "      <td>4322.000000</td>\n",
              "      <td>4322.000000</td>\n",
              "      <td>4322.000000</td>\n",
              "      <td>4322.000000</td>\n",
              "      <td>4322.000000</td>\n",
              "      <td>4322.000000</td>\n",
              "    </tr>\n",
              "    <tr>\n",
              "      <th>mean</th>\n",
              "      <td>48.023832</td>\n",
              "      <td>79.624489</td>\n",
              "      <td>167.796020</td>\n",
              "      <td>28.213290</td>\n",
              "      <td>0.308885</td>\n",
              "      <td>96.872374</td>\n",
              "      <td>124.300787</td>\n",
              "      <td>71.684637</td>\n",
              "      <td>51.733225</td>\n",
              "      <td>152.258677</td>\n",
              "      <td>203.991902</td>\n",
              "      <td>0.103887</td>\n",
              "      <td>0.034938</td>\n",
              "      <td>2.040953</td>\n",
              "      <td>0.471772</td>\n",
              "      <td>0.350069</td>\n",
              "      <td>0.446321</td>\n",
              "      <td>0.054142</td>\n",
              "      <td>0.306802</td>\n",
              "      <td>0.380379</td>\n",
              "      <td>0.242480</td>\n",
              "      <td>0.103656</td>\n",
              "      <td>0.311430</td>\n",
              "      <td>0.056918</td>\n",
              "      <td>0.018510</td>\n",
              "      <td>0.023369</td>\n",
              "      <td>0.066404</td>\n",
              "    </tr>\n",
              "    <tr>\n",
              "      <th>std</th>\n",
              "      <td>18.262509</td>\n",
              "      <td>19.283464</td>\n",
              "      <td>10.001444</td>\n",
              "      <td>6.140212</td>\n",
              "      <td>0.462087</td>\n",
              "      <td>15.192770</td>\n",
              "      <td>20.035094</td>\n",
              "      <td>12.169854</td>\n",
              "      <td>15.747438</td>\n",
              "      <td>42.198248</td>\n",
              "      <td>41.945449</td>\n",
              "      <td>0.305149</td>\n",
              "      <td>0.183643</td>\n",
              "      <td>0.804660</td>\n",
              "      <td>0.499260</td>\n",
              "      <td>0.477047</td>\n",
              "      <td>0.497168</td>\n",
              "      <td>0.226323</td>\n",
              "      <td>0.461220</td>\n",
              "      <td>0.485536</td>\n",
              "      <td>0.428633</td>\n",
              "      <td>0.304849</td>\n",
              "      <td>0.463132</td>\n",
              "      <td>0.231713</td>\n",
              "      <td>0.134802</td>\n",
              "      <td>0.151089</td>\n",
              "      <td>0.249017</td>\n",
              "    </tr>\n",
              "    <tr>\n",
              "      <th>min</th>\n",
              "      <td>20.000000</td>\n",
              "      <td>34.500000</td>\n",
              "      <td>130.400000</td>\n",
              "      <td>14.420000</td>\n",
              "      <td>0.000000</td>\n",
              "      <td>58.600000</td>\n",
              "      <td>73.000000</td>\n",
              "      <td>10.000000</td>\n",
              "      <td>8.000000</td>\n",
              "      <td>42.000000</td>\n",
              "      <td>75.000000</td>\n",
              "      <td>0.000000</td>\n",
              "      <td>0.000000</td>\n",
              "      <td>1.000000</td>\n",
              "      <td>0.000000</td>\n",
              "      <td>0.000000</td>\n",
              "      <td>0.000000</td>\n",
              "      <td>0.000000</td>\n",
              "      <td>0.000000</td>\n",
              "      <td>0.000000</td>\n",
              "      <td>0.000000</td>\n",
              "      <td>0.000000</td>\n",
              "      <td>0.000000</td>\n",
              "      <td>0.000000</td>\n",
              "      <td>0.000000</td>\n",
              "      <td>0.000000</td>\n",
              "      <td>0.000000</td>\n",
              "    </tr>\n",
              "    <tr>\n",
              "      <th>25%</th>\n",
              "      <td>32.000000</td>\n",
              "      <td>65.900000</td>\n",
              "      <td>160.500000</td>\n",
              "      <td>24.080000</td>\n",
              "      <td>0.000000</td>\n",
              "      <td>86.100000</td>\n",
              "      <td>110.000000</td>\n",
              "      <td>64.000000</td>\n",
              "      <td>40.000000</td>\n",
              "      <td>123.000000</td>\n",
              "      <td>176.250000</td>\n",
              "      <td>0.000000</td>\n",
              "      <td>0.000000</td>\n",
              "      <td>2.000000</td>\n",
              "      <td>0.000000</td>\n",
              "      <td>0.000000</td>\n",
              "      <td>0.000000</td>\n",
              "      <td>0.000000</td>\n",
              "      <td>0.000000</td>\n",
              "      <td>0.000000</td>\n",
              "      <td>0.000000</td>\n",
              "      <td>0.000000</td>\n",
              "      <td>0.000000</td>\n",
              "      <td>0.000000</td>\n",
              "      <td>0.000000</td>\n",
              "      <td>0.000000</td>\n",
              "      <td>0.000000</td>\n",
              "    </tr>\n",
              "    <tr>\n",
              "      <th>50%</th>\n",
              "      <td>46.000000</td>\n",
              "      <td>77.400000</td>\n",
              "      <td>167.500000</td>\n",
              "      <td>27.265000</td>\n",
              "      <td>0.000000</td>\n",
              "      <td>96.400000</td>\n",
              "      <td>121.000000</td>\n",
              "      <td>72.000000</td>\n",
              "      <td>49.000000</td>\n",
              "      <td>149.000000</td>\n",
              "      <td>200.000000</td>\n",
              "      <td>0.000000</td>\n",
              "      <td>0.000000</td>\n",
              "      <td>2.000000</td>\n",
              "      <td>0.000000</td>\n",
              "      <td>0.000000</td>\n",
              "      <td>0.000000</td>\n",
              "      <td>0.000000</td>\n",
              "      <td>0.000000</td>\n",
              "      <td>0.000000</td>\n",
              "      <td>0.000000</td>\n",
              "      <td>0.000000</td>\n",
              "      <td>0.000000</td>\n",
              "      <td>0.000000</td>\n",
              "      <td>0.000000</td>\n",
              "      <td>0.000000</td>\n",
              "      <td>0.000000</td>\n",
              "    </tr>\n",
              "    <tr>\n",
              "      <th>75%</th>\n",
              "      <td>63.000000</td>\n",
              "      <td>90.100000</td>\n",
              "      <td>174.900000</td>\n",
              "      <td>31.130000</td>\n",
              "      <td>1.000000</td>\n",
              "      <td>106.200000</td>\n",
              "      <td>134.000000</td>\n",
              "      <td>79.000000</td>\n",
              "      <td>60.000000</td>\n",
              "      <td>177.000000</td>\n",
              "      <td>229.000000</td>\n",
              "      <td>0.000000</td>\n",
              "      <td>0.000000</td>\n",
              "      <td>2.000000</td>\n",
              "      <td>1.000000</td>\n",
              "      <td>1.000000</td>\n",
              "      <td>1.000000</td>\n",
              "      <td>0.000000</td>\n",
              "      <td>1.000000</td>\n",
              "      <td>1.000000</td>\n",
              "      <td>0.000000</td>\n",
              "      <td>0.000000</td>\n",
              "      <td>1.000000</td>\n",
              "      <td>0.000000</td>\n",
              "      <td>0.000000</td>\n",
              "      <td>0.000000</td>\n",
              "      <td>0.000000</td>\n",
              "    </tr>\n",
              "    <tr>\n",
              "      <th>max</th>\n",
              "      <td>85.000000</td>\n",
              "      <td>193.300000</td>\n",
              "      <td>200.100000</td>\n",
              "      <td>66.440000</td>\n",
              "      <td>1.000000</td>\n",
              "      <td>173.400000</td>\n",
              "      <td>218.000000</td>\n",
              "      <td>122.000000</td>\n",
              "      <td>160.000000</td>\n",
              "      <td>560.000000</td>\n",
              "      <td>606.000000</td>\n",
              "      <td>1.000000</td>\n",
              "      <td>1.000000</td>\n",
              "      <td>4.000000</td>\n",
              "      <td>1.000000</td>\n",
              "      <td>1.000000</td>\n",
              "      <td>1.000000</td>\n",
              "      <td>1.000000</td>\n",
              "      <td>1.000000</td>\n",
              "      <td>1.000000</td>\n",
              "      <td>1.000000</td>\n",
              "      <td>1.000000</td>\n",
              "      <td>1.000000</td>\n",
              "      <td>1.000000</td>\n",
              "      <td>1.000000</td>\n",
              "      <td>1.000000</td>\n",
              "      <td>1.000000</td>\n",
              "    </tr>\n",
              "  </tbody>\n",
              "</table>\n",
              "</div>"
            ],
            "text/plain": [
              "               Age       Weight  ...  Chronic Fatigue          ALF\n",
              "count  4322.000000  4322.000000  ...      4322.000000  4322.000000\n",
              "mean     48.023832    79.624489  ...         0.023369     0.066404\n",
              "std      18.262509    19.283464  ...         0.151089     0.249017\n",
              "min      20.000000    34.500000  ...         0.000000     0.000000\n",
              "25%      32.000000    65.900000  ...         0.000000     0.000000\n",
              "50%      46.000000    77.400000  ...         0.000000     0.000000\n",
              "75%      63.000000    90.100000  ...         0.000000     0.000000\n",
              "max      85.000000   193.300000  ...         1.000000     1.000000\n",
              "\n",
              "[8 rows x 27 columns]"
            ]
          },
          "metadata": {
            "tags": []
          },
          "execution_count": 41
        }
      ]
    },
    {
      "cell_type": "code",
      "metadata": {
        "id": "Bg2pN04nBhi2",
        "colab_type": "code",
        "outputId": "db279728-0d34-47cd-b4c5-63302d3e7c40",
        "colab": {
          "base_uri": "https://localhost:8080/",
          "height": 326
        }
      },
      "source": [
        "cvd.head()"
      ],
      "execution_count": 35,
      "outputs": [
        {
          "output_type": "execute_result",
          "data": {
            "text/html": [
              "<div>\n",
              "<style scoped>\n",
              "    .dataframe tbody tr th:only-of-type {\n",
              "        vertical-align: middle;\n",
              "    }\n",
              "\n",
              "    .dataframe tbody tr th {\n",
              "        vertical-align: top;\n",
              "    }\n",
              "\n",
              "    .dataframe thead th {\n",
              "        text-align: right;\n",
              "    }\n",
              "</style>\n",
              "<table border=\"1\" class=\"dataframe\">\n",
              "  <thead>\n",
              "    <tr style=\"text-align: right;\">\n",
              "      <th></th>\n",
              "      <th>Age</th>\n",
              "      <th>Gender</th>\n",
              "      <th>Region</th>\n",
              "      <th>Weight</th>\n",
              "      <th>Height</th>\n",
              "      <th>Body Mass Index</th>\n",
              "      <th>Obesity</th>\n",
              "      <th>Waist</th>\n",
              "      <th>Maximum Blood Pressure</th>\n",
              "      <th>Minimum Blood Pressure</th>\n",
              "      <th>Good Cholesterol</th>\n",
              "      <th>Bad Cholesterol</th>\n",
              "      <th>Total Cholesterol</th>\n",
              "      <th>Dyslipidemia</th>\n",
              "      <th>PVD</th>\n",
              "      <th>Physical Activity</th>\n",
              "      <th>Education</th>\n",
              "      <th>Unmarried</th>\n",
              "      <th>Income</th>\n",
              "      <th>Source of Care</th>\n",
              "      <th>PoorVision</th>\n",
              "      <th>Alcohol Consumption</th>\n",
              "      <th>HyperTension</th>\n",
              "      <th>Family  HyperTension</th>\n",
              "      <th>Diabetes</th>\n",
              "      <th>Family Diabetes</th>\n",
              "      <th>Hepatitis</th>\n",
              "      <th>Family Hepatitis</th>\n",
              "      <th>Chronic Fatigue</th>\n",
              "      <th>ALF</th>\n",
              "    </tr>\n",
              "  </thead>\n",
              "  <tbody>\n",
              "    <tr>\n",
              "      <th>0</th>\n",
              "      <td>65</td>\n",
              "      <td>M</td>\n",
              "      <td>east</td>\n",
              "      <td>56.0</td>\n",
              "      <td>162.1</td>\n",
              "      <td>21.31</td>\n",
              "      <td>0.0</td>\n",
              "      <td>83.6</td>\n",
              "      <td>135.0</td>\n",
              "      <td>71.0</td>\n",
              "      <td>48.0</td>\n",
              "      <td>249.0</td>\n",
              "      <td>297.0</td>\n",
              "      <td>0</td>\n",
              "      <td>0</td>\n",
              "      <td>3.0</td>\n",
              "      <td>0.0</td>\n",
              "      <td>0.0</td>\n",
              "      <td>1.0</td>\n",
              "      <td>Governament Hospital</td>\n",
              "      <td>0.0</td>\n",
              "      <td>1</td>\n",
              "      <td>0.0</td>\n",
              "      <td>0</td>\n",
              "      <td>0.0</td>\n",
              "      <td>1</td>\n",
              "      <td>1.0</td>\n",
              "      <td>0.0</td>\n",
              "      <td>0.0</td>\n",
              "      <td>0.0</td>\n",
              "    </tr>\n",
              "    <tr>\n",
              "      <th>1</th>\n",
              "      <td>36</td>\n",
              "      <td>M</td>\n",
              "      <td>south</td>\n",
              "      <td>60.2</td>\n",
              "      <td>162.2</td>\n",
              "      <td>22.88</td>\n",
              "      <td>0.0</td>\n",
              "      <td>76.6</td>\n",
              "      <td>96.0</td>\n",
              "      <td>52.0</td>\n",
              "      <td>31.0</td>\n",
              "      <td>135.0</td>\n",
              "      <td>166.0</td>\n",
              "      <td>0</td>\n",
              "      <td>0</td>\n",
              "      <td>3.0</td>\n",
              "      <td>0.0</td>\n",
              "      <td>NaN</td>\n",
              "      <td>1.0</td>\n",
              "      <td>Never Counsulted</td>\n",
              "      <td>0.0</td>\n",
              "      <td>0</td>\n",
              "      <td>0.0</td>\n",
              "      <td>0</td>\n",
              "      <td>0.0</td>\n",
              "      <td>0</td>\n",
              "      <td>0.0</td>\n",
              "      <td>0.0</td>\n",
              "      <td>0.0</td>\n",
              "      <td>0.0</td>\n",
              "    </tr>\n",
              "    <tr>\n",
              "      <th>2</th>\n",
              "      <td>66</td>\n",
              "      <td>M</td>\n",
              "      <td>east</td>\n",
              "      <td>83.9</td>\n",
              "      <td>162.5</td>\n",
              "      <td>31.77</td>\n",
              "      <td>1.0</td>\n",
              "      <td>113.2</td>\n",
              "      <td>115.0</td>\n",
              "      <td>57.0</td>\n",
              "      <td>44.0</td>\n",
              "      <td>211.0</td>\n",
              "      <td>255.0</td>\n",
              "      <td>1</td>\n",
              "      <td>0</td>\n",
              "      <td>1.0</td>\n",
              "      <td>0.0</td>\n",
              "      <td>1.0</td>\n",
              "      <td>0.0</td>\n",
              "      <td>Never Counsulted</td>\n",
              "      <td>0.0</td>\n",
              "      <td>1</td>\n",
              "      <td>0.0</td>\n",
              "      <td>0</td>\n",
              "      <td>1.0</td>\n",
              "      <td>0</td>\n",
              "      <td>0.0</td>\n",
              "      <td>0.0</td>\n",
              "      <td>0.0</td>\n",
              "      <td>0.0</td>\n",
              "    </tr>\n",
              "    <tr>\n",
              "      <th>3</th>\n",
              "      <td>54</td>\n",
              "      <td>M</td>\n",
              "      <td>east</td>\n",
              "      <td>69.4</td>\n",
              "      <td>160.5</td>\n",
              "      <td>26.94</td>\n",
              "      <td>0.0</td>\n",
              "      <td>77.9</td>\n",
              "      <td>110.0</td>\n",
              "      <td>57.0</td>\n",
              "      <td>74.0</td>\n",
              "      <td>156.0</td>\n",
              "      <td>230.0</td>\n",
              "      <td>0</td>\n",
              "      <td>0</td>\n",
              "      <td>2.0</td>\n",
              "      <td>1.0</td>\n",
              "      <td>0.0</td>\n",
              "      <td>0.0</td>\n",
              "      <td>Private Hospital</td>\n",
              "      <td>0.0</td>\n",
              "      <td>1</td>\n",
              "      <td>0.0</td>\n",
              "      <td>0</td>\n",
              "      <td>0.0</td>\n",
              "      <td>0</td>\n",
              "      <td>0.0</td>\n",
              "      <td>0.0</td>\n",
              "      <td>0.0</td>\n",
              "      <td>0.0</td>\n",
              "    </tr>\n",
              "    <tr>\n",
              "      <th>4</th>\n",
              "      <td>63</td>\n",
              "      <td>M</td>\n",
              "      <td>north</td>\n",
              "      <td>73.1</td>\n",
              "      <td>159.2</td>\n",
              "      <td>28.84</td>\n",
              "      <td>0.0</td>\n",
              "      <td>89.3</td>\n",
              "      <td>132.0</td>\n",
              "      <td>73.0</td>\n",
              "      <td>67.0</td>\n",
              "      <td>154.0</td>\n",
              "      <td>221.0</td>\n",
              "      <td>0</td>\n",
              "      <td>0</td>\n",
              "      <td>1.0</td>\n",
              "      <td>0.0</td>\n",
              "      <td>0.0</td>\n",
              "      <td>NaN</td>\n",
              "      <td>clinic</td>\n",
              "      <td>0.0</td>\n",
              "      <td>0</td>\n",
              "      <td>1.0</td>\n",
              "      <td>0</td>\n",
              "      <td>0.0</td>\n",
              "      <td>0</td>\n",
              "      <td>0.0</td>\n",
              "      <td>0.0</td>\n",
              "      <td>0.0</td>\n",
              "      <td>0.0</td>\n",
              "    </tr>\n",
              "  </tbody>\n",
              "</table>\n",
              "</div>"
            ],
            "text/plain": [
              "   Age Gender Region  Weight  ...  Hepatitis  Family Hepatitis  Chronic Fatigue  ALF\n",
              "0   65      M   east    56.0  ...        1.0               0.0              0.0  0.0\n",
              "1   36      M  south    60.2  ...        0.0               0.0              0.0  0.0\n",
              "2   66      M   east    83.9  ...        0.0               0.0              0.0  0.0\n",
              "3   54      M   east    69.4  ...        0.0               0.0              0.0  0.0\n",
              "4   63      M  north    73.1  ...        0.0               0.0              0.0  0.0\n",
              "\n",
              "[5 rows x 30 columns]"
            ]
          },
          "metadata": {
            "tags": []
          },
          "execution_count": 35
        }
      ]
    },
    {
      "cell_type": "code",
      "metadata": {
        "id": "stv-zpQGE9KL",
        "colab_type": "code",
        "colab": {}
      },
      "source": [
        "#For K-fold cross validation\n",
        "from sklearn.ensemble import RandomForestClassifier\n",
        "model = RandomForestClassifier(n_estimators=100)\n",
        "outcome_var = ['ALF']\n",
        "predictor_var = ['Age', 'Weight', 'Height','Body Mass Index','Obesity', 'Waist','Maximum Blood Pressure','Minimum Blood Pressure',\t'Good Cholesterol',\t'Bad Cholesterol', 'Dyslipidemia', 'PVD','Physical Activity',\t'PoorVision',\t'Alcohol Consumption', 'HyperTension', 'Diabetes','Hepatitis','Chronic Fatigue']"
      ],
      "execution_count": 0,
      "outputs": []
    },
    {
      "cell_type": "code",
      "metadata": {
        "id": "fC72kyLMGxWG",
        "colab_type": "code",
        "colab": {}
      },
      "source": [
        "#Import models from scikit learn module:\n",
        "from sklearn.linear_model import LogisticRegression\n",
        "from sklearn.model_selection import KFold\n",
        "from sklearn.tree import DecisionTreeClassifier, export_graphviz\n",
        "from sklearn import metrics\n",
        "import numpy as np\n",
        "\n",
        "#Generic function for making a classification model and accessing performance:\n",
        "def classification_model(model, data, predictors, outcome):\n",
        "  model.fit(data[predictors],data[outcome].values.ravel())\n",
        "  \n",
        "  predictions = model.predict(data[predictors])\n",
        "  \n",
        "  accuracy = metrics.accuracy_score(predictions,data[outcome])\n",
        "  print('Accuracy : %s' % '{0:.3%}'.format(accuracy))\n",
        "\n",
        "  kf = KFold(n_splits=5)\n",
        "  error = []\n",
        "  for train, test in kf.split(data[predictors]):\n",
        "    train_predictors = (data[predictors].iloc[train,:])\n",
        "    \n",
        "    train_target = data[outcome].iloc[train]\n",
        "    \n",
        "    model.fit(train_predictors, train_target.values.ravel())\n",
        "    \n",
        "    error.append(model.score(data[predictors].iloc[test,:], data[outcome].iloc[test]))\n",
        " \n",
        "  print('Cross-Validation Score : %s' % '{0:.3%}'.format(np.mean(error)))\n",
        "\n",
        "  return model.fit(data[predictors],data[outcome].values.ravel())\n"
      ],
      "execution_count": 0,
      "outputs": []
    },
    {
      "cell_type": "code",
      "metadata": {
        "id": "kLLxPloyGvws",
        "colab_type": "code",
        "outputId": "e69db65c-1e94-4c7e-8ef2-133c2d974fe5",
        "colab": {
          "base_uri": "https://localhost:8080/",
          "height": 51
        }
      },
      "source": [
        "\n",
        "#outcome_var = ['winner']\n",
        "#predictor_var = ['team1', 'team2', 'venue', 'toss_winner','city','toss_decision']\n",
        "history=classification_model(model, cvd,predictor_var,outcome_var)"
      ],
      "execution_count": 42,
      "outputs": [
        {
          "output_type": "stream",
          "text": [
            "Accuracy : 100.000%\n",
            "Cross-Validation Score : 93.197%\n"
          ],
          "name": "stdout"
        }
      ]
    },
    {
      "cell_type": "code",
      "metadata": {
        "id": "QcPor5e7W3IZ",
        "colab_type": "code",
        "colab": {
          "base_uri": "https://localhost:8080/",
          "height": 361
        },
        "outputId": "cd985083-2f76-48f7-9d08-127aebd47b78"
      },
      "source": [
        "#inp=list(map(str,[18393,\t2,\t168,\t62.0,\t110,\t80,\t1,\t1,\t0,\t0,\t1]))\n",
        "inp=list(map(str,'63\t1\t3\t145\t233\t1\t0\t150\t0\t2.3\t0\t0\t1'.split()))\n",
        "inp = np.array(inp).reshape((1, -1))\n",
        "output=model.predict(inp)"
      ],
      "execution_count": 43,
      "outputs": [
        {
          "output_type": "error",
          "ename": "ValueError",
          "evalue": "ignored",
          "traceback": [
            "\u001b[0;31m---------------------------------------------------------------------------\u001b[0m",
            "\u001b[0;31mValueError\u001b[0m                                Traceback (most recent call last)",
            "\u001b[0;32m<ipython-input-43-935be678927e>\u001b[0m in \u001b[0;36m<module>\u001b[0;34m()\u001b[0m\n\u001b[1;32m      1\u001b[0m \u001b[0minp\u001b[0m\u001b[0;34m=\u001b[0m\u001b[0mlist\u001b[0m\u001b[0;34m(\u001b[0m\u001b[0mmap\u001b[0m\u001b[0;34m(\u001b[0m\u001b[0mstr\u001b[0m\u001b[0;34m,\u001b[0m\u001b[0;34m'63    1       3       145     233     1       0       150     0       2.3     0       0       1'\u001b[0m\u001b[0;34m.\u001b[0m\u001b[0msplit\u001b[0m\u001b[0;34m(\u001b[0m\u001b[0;34m)\u001b[0m\u001b[0;34m)\u001b[0m\u001b[0;34m)\u001b[0m\u001b[0;34m\u001b[0m\u001b[0;34m\u001b[0m\u001b[0m\n\u001b[1;32m      2\u001b[0m \u001b[0minp\u001b[0m \u001b[0;34m=\u001b[0m \u001b[0mnp\u001b[0m\u001b[0;34m.\u001b[0m\u001b[0marray\u001b[0m\u001b[0;34m(\u001b[0m\u001b[0minp\u001b[0m\u001b[0;34m)\u001b[0m\u001b[0;34m.\u001b[0m\u001b[0mreshape\u001b[0m\u001b[0;34m(\u001b[0m\u001b[0;34m(\u001b[0m\u001b[0;36m1\u001b[0m\u001b[0;34m,\u001b[0m \u001b[0;34m-\u001b[0m\u001b[0;36m1\u001b[0m\u001b[0;34m)\u001b[0m\u001b[0;34m)\u001b[0m\u001b[0;34m\u001b[0m\u001b[0;34m\u001b[0m\u001b[0m\n\u001b[0;32m----> 3\u001b[0;31m \u001b[0moutput\u001b[0m\u001b[0;34m=\u001b[0m\u001b[0mmodel\u001b[0m\u001b[0;34m.\u001b[0m\u001b[0mpredict\u001b[0m\u001b[0;34m(\u001b[0m\u001b[0minp\u001b[0m\u001b[0;34m)\u001b[0m\u001b[0;34m\u001b[0m\u001b[0;34m\u001b[0m\u001b[0m\n\u001b[0m",
            "\u001b[0;32m/usr/local/lib/python3.6/dist-packages/sklearn/ensemble/forest.py\u001b[0m in \u001b[0;36mpredict\u001b[0;34m(self, X)\u001b[0m\n\u001b[1;32m    543\u001b[0m             \u001b[0mThe\u001b[0m \u001b[0mpredicted\u001b[0m \u001b[0mclasses\u001b[0m\u001b[0;34m.\u001b[0m\u001b[0;34m\u001b[0m\u001b[0;34m\u001b[0m\u001b[0m\n\u001b[1;32m    544\u001b[0m         \"\"\"\n\u001b[0;32m--> 545\u001b[0;31m         \u001b[0mproba\u001b[0m \u001b[0;34m=\u001b[0m \u001b[0mself\u001b[0m\u001b[0;34m.\u001b[0m\u001b[0mpredict_proba\u001b[0m\u001b[0;34m(\u001b[0m\u001b[0mX\u001b[0m\u001b[0;34m)\u001b[0m\u001b[0;34m\u001b[0m\u001b[0;34m\u001b[0m\u001b[0m\n\u001b[0m\u001b[1;32m    546\u001b[0m \u001b[0;34m\u001b[0m\u001b[0m\n\u001b[1;32m    547\u001b[0m         \u001b[0;32mif\u001b[0m \u001b[0mself\u001b[0m\u001b[0;34m.\u001b[0m\u001b[0mn_outputs_\u001b[0m \u001b[0;34m==\u001b[0m \u001b[0;36m1\u001b[0m\u001b[0;34m:\u001b[0m\u001b[0;34m\u001b[0m\u001b[0;34m\u001b[0m\u001b[0m\n",
            "\u001b[0;32m/usr/local/lib/python3.6/dist-packages/sklearn/ensemble/forest.py\u001b[0m in \u001b[0;36mpredict_proba\u001b[0;34m(self, X)\u001b[0m\n\u001b[1;32m    586\u001b[0m         \u001b[0mcheck_is_fitted\u001b[0m\u001b[0;34m(\u001b[0m\u001b[0mself\u001b[0m\u001b[0;34m,\u001b[0m \u001b[0;34m'estimators_'\u001b[0m\u001b[0;34m)\u001b[0m\u001b[0;34m\u001b[0m\u001b[0;34m\u001b[0m\u001b[0m\n\u001b[1;32m    587\u001b[0m         \u001b[0;31m# Check data\u001b[0m\u001b[0;34m\u001b[0m\u001b[0;34m\u001b[0m\u001b[0;34m\u001b[0m\u001b[0m\n\u001b[0;32m--> 588\u001b[0;31m         \u001b[0mX\u001b[0m \u001b[0;34m=\u001b[0m \u001b[0mself\u001b[0m\u001b[0;34m.\u001b[0m\u001b[0m_validate_X_predict\u001b[0m\u001b[0;34m(\u001b[0m\u001b[0mX\u001b[0m\u001b[0;34m)\u001b[0m\u001b[0;34m\u001b[0m\u001b[0;34m\u001b[0m\u001b[0m\n\u001b[0m\u001b[1;32m    589\u001b[0m \u001b[0;34m\u001b[0m\u001b[0m\n\u001b[1;32m    590\u001b[0m         \u001b[0;31m# Assign chunk of trees to jobs\u001b[0m\u001b[0;34m\u001b[0m\u001b[0;34m\u001b[0m\u001b[0;34m\u001b[0m\u001b[0m\n",
            "\u001b[0;32m/usr/local/lib/python3.6/dist-packages/sklearn/ensemble/forest.py\u001b[0m in \u001b[0;36m_validate_X_predict\u001b[0;34m(self, X)\u001b[0m\n\u001b[1;32m    357\u001b[0m                                  \"call `fit` before exploiting the model.\")\n\u001b[1;32m    358\u001b[0m \u001b[0;34m\u001b[0m\u001b[0m\n\u001b[0;32m--> 359\u001b[0;31m         \u001b[0;32mreturn\u001b[0m \u001b[0mself\u001b[0m\u001b[0;34m.\u001b[0m\u001b[0mestimators_\u001b[0m\u001b[0;34m[\u001b[0m\u001b[0;36m0\u001b[0m\u001b[0;34m]\u001b[0m\u001b[0;34m.\u001b[0m\u001b[0m_validate_X_predict\u001b[0m\u001b[0;34m(\u001b[0m\u001b[0mX\u001b[0m\u001b[0;34m,\u001b[0m \u001b[0mcheck_input\u001b[0m\u001b[0;34m=\u001b[0m\u001b[0;32mTrue\u001b[0m\u001b[0;34m)\u001b[0m\u001b[0;34m\u001b[0m\u001b[0;34m\u001b[0m\u001b[0m\n\u001b[0m\u001b[1;32m    360\u001b[0m \u001b[0;34m\u001b[0m\u001b[0m\n\u001b[1;32m    361\u001b[0m     \u001b[0;34m@\u001b[0m\u001b[0mproperty\u001b[0m\u001b[0;34m\u001b[0m\u001b[0;34m\u001b[0m\u001b[0m\n",
            "\u001b[0;32m/usr/local/lib/python3.6/dist-packages/sklearn/tree/tree.py\u001b[0m in \u001b[0;36m_validate_X_predict\u001b[0;34m(self, X, check_input)\u001b[0m\n\u001b[1;32m    400\u001b[0m                              \u001b[0;34m\"match the input. Model n_features is %s and \"\u001b[0m\u001b[0;34m\u001b[0m\u001b[0;34m\u001b[0m\u001b[0m\n\u001b[1;32m    401\u001b[0m                              \u001b[0;34m\"input n_features is %s \"\u001b[0m\u001b[0;34m\u001b[0m\u001b[0;34m\u001b[0m\u001b[0m\n\u001b[0;32m--> 402\u001b[0;31m                              % (self.n_features_, n_features))\n\u001b[0m\u001b[1;32m    403\u001b[0m \u001b[0;34m\u001b[0m\u001b[0m\n\u001b[1;32m    404\u001b[0m         \u001b[0;32mreturn\u001b[0m \u001b[0mX\u001b[0m\u001b[0;34m\u001b[0m\u001b[0;34m\u001b[0m\u001b[0m\n",
            "\u001b[0;31mValueError\u001b[0m: Number of features of the model must match the input. Model n_features is 19 and input n_features is 13 "
          ]
        }
      ]
    },
    {
      "cell_type": "code",
      "metadata": {
        "id": "KaxmUXeuXO1v",
        "colab_type": "code",
        "outputId": "a525aeb3-7de7-4190-e444-c9822e6243cb",
        "colab": {
          "base_uri": "https://localhost:8080/",
          "height": 34
        }
      },
      "source": [
        "print(output)"
      ],
      "execution_count": 32,
      "outputs": [
        {
          "output_type": "stream",
          "text": [
            "[1]\n"
          ],
          "name": "stdout"
        }
      ]
    },
    {
      "cell_type": "code",
      "metadata": {
        "id": "TTdumrCPUqZQ",
        "colab_type": "code",
        "outputId": "f6561570-8b33-4688-e9b4-5affac064287",
        "colab": {
          "base_uri": "https://localhost:8080/",
          "height": 34
        }
      },
      "source": [
        "from sklearn.externals import joblib\n",
        "joblib.dump(model, 'acuteliverfailure.pkl')"
      ],
      "execution_count": 44,
      "outputs": [
        {
          "output_type": "execute_result",
          "data": {
            "text/plain": [
              "['acuteliverfailure.pkl']"
            ]
          },
          "metadata": {
            "tags": []
          },
          "execution_count": 44
        }
      ]
    },
    {
      "cell_type": "code",
      "metadata": {
        "id": "gzux2uE6tFOu",
        "colab_type": "code",
        "colab": {}
      },
      "source": [
        "import pickle\n",
        "filename = 'acuteliverfailure.sav'\n",
        "pickle.dump(model, open(filename, 'wb'))"
      ],
      "execution_count": 0,
      "outputs": []
    },
    {
      "cell_type": "code",
      "metadata": {
        "id": "Or1ZExjKtYUP",
        "colab_type": "code",
        "colab": {}
      },
      "source": [
        "loaded_model = pickle.load(open(filename, 'rb'))"
      ],
      "execution_count": 0,
      "outputs": []
    },
    {
      "cell_type": "code",
      "metadata": {
        "id": "pZdLMgFjtlfl",
        "colab_type": "code",
        "colab": {}
      },
      "source": [
        ""
      ],
      "execution_count": 0,
      "outputs": []
    },
    {
      "cell_type": "code",
      "metadata": {
        "id": "inI5dpcUkSKg",
        "colab_type": "code",
        "colab": {}
      },
      "source": [
        "from sklearn.externals import joblib\n",
        "import pandas as pd\n",
        "import numpy as np\n",
        "#clf = joblib.load('Cardiomodel.pkl')\n",
        "#inp=list(map(str,[18393,\t2,\t168,\t62.0,\t110,\t80,\t1,\t1,\t0,\t0,\t1]))\n",
        "inp=list(map(str,'20228\t1\t156\t85.0\t140\t90\t3\t1\t0\t0\t1'.split()))\n",
        "inp = np.array(inp).reshape((1, -1))\n",
        "result = loaded_model.predict(inp)"
      ],
      "execution_count": 0,
      "outputs": []
    },
    {
      "cell_type": "code",
      "metadata": {
        "id": "Ilzud-FXkcGy",
        "colab_type": "code",
        "outputId": "cb1bc771-fb80-4adc-b143-d86b09b4286d",
        "colab": {
          "base_uri": "https://localhost:8080/",
          "height": 34
        }
      },
      "source": [
        "print(result)"
      ],
      "execution_count": 0,
      "outputs": [
        {
          "output_type": "stream",
          "text": [
            "[1]\n"
          ],
          "name": "stdout"
        }
      ]
    },
    {
      "cell_type": "code",
      "metadata": {
        "id": "x1stJI12uSGX",
        "colab_type": "code",
        "outputId": "151cc479-ff99-4a8e-9532-80f719d47074",
        "colab": {
          "base_uri": "https://localhost:8080/",
          "height": 122
        }
      },
      "source": [
        "from google.colab import drive\n",
        "drive.mount('/content/drive')"
      ],
      "execution_count": 0,
      "outputs": [
        {
          "output_type": "stream",
          "text": [
            "Go to this URL in a browser: https://accounts.google.com/o/oauth2/auth?client_id=947318989803-6bn6qk8qdgf4n4g3pfee6491hc0brc4i.apps.googleusercontent.com&redirect_uri=urn%3Aietf%3Awg%3Aoauth%3A2.0%3Aoob&scope=email%20https%3A%2F%2Fwww.googleapis.com%2Fauth%2Fdocs.test%20https%3A%2F%2Fwww.googleapis.com%2Fauth%2Fdrive%20https%3A%2F%2Fwww.googleapis.com%2Fauth%2Fdrive.photos.readonly%20https%3A%2F%2Fwww.googleapis.com%2Fauth%2Fpeopleapi.readonly&response_type=code\n",
            "\n",
            "Enter your authorization code:\n",
            "··········\n",
            "Mounted at /content/drive\n"
          ],
          "name": "stdout"
        }
      ]
    },
    {
      "cell_type": "code",
      "metadata": {
        "id": "WG9_gIHounnI",
        "colab_type": "code",
        "colab": {}
      },
      "source": [
        "!mv '/content/acuteliverfailure.sav' '/content/drive/My Drive/rackathon/acuteliverfailure.sav'"
      ],
      "execution_count": 0,
      "outputs": []
    }
  ]
}