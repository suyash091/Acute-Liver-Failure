{
  "nbformat": 4,
  "nbformat_minor": 0,
  "metadata": {
    "colab": {
      "name": "Training EEG dataset.ipynb",
      "provenance": [],
      "collapsed_sections": [],
      "machine_shape": "hm",
      "include_colab_link": true
    },
    "kernelspec": {
      "name": "python3",
      "display_name": "Python 3"
    }
  },
  "cells": [
    {
      "cell_type": "markdown",
      "metadata": {
        "id": "view-in-github",
        "colab_type": "text"
      },
      "source": [
        "<a href=\"https://colab.research.google.com/github/suyash091/Acute-Liver-Failure/blob/master/Training_EEG_Lasso.ipynb\" target=\"_parent\"><img src=\"https://colab.research.google.com/assets/colab-badge.svg\" alt=\"Open In Colab\"/></a>"
      ]
    },
    {
      "cell_type": "code",
      "metadata": {
        "id": "0zeYcI6pz2VU",
        "colab_type": "code",
        "colab": {}
      },
      "source": [
        "import pandas as pd\n",
        "import gc\n",
        "import numpy as np"
      ],
      "execution_count": 0,
      "outputs": []
    },
    {
      "cell_type": "code",
      "metadata": {
        "id": "bMy3RrZf2Ho5",
        "colab_type": "code",
        "outputId": "3e4e9adb-a4e5-4678-91bf-a9715b18d6de",
        "colab": {
          "base_uri": "https://localhost:8080/",
          "height": 122
        }
      },
      "source": [
        "from google.colab import drive\n",
        "drive.mount('/content/drive')"
      ],
      "execution_count": 0,
      "outputs": [
        {
          "output_type": "stream",
          "text": [
            "Go to this URL in a browser: https://accounts.google.com/o/oauth2/auth?client_id=947318989803-6bn6qk8qdgf4n4g3pfee6491hc0brc4i.apps.googleusercontent.com&redirect_uri=urn%3aietf%3awg%3aoauth%3a2.0%3aoob&response_type=code&scope=email%20https%3a%2f%2fwww.googleapis.com%2fauth%2fdocs.test%20https%3a%2f%2fwww.googleapis.com%2fauth%2fdrive%20https%3a%2f%2fwww.googleapis.com%2fauth%2fdrive.photos.readonly%20https%3a%2f%2fwww.googleapis.com%2fauth%2fpeopleapi.readonly\n",
            "\n",
            "Enter your authorization code:\n",
            "··········\n",
            "Mounted at /content/drive\n"
          ],
          "name": "stdout"
        }
      ]
    },
    {
      "cell_type": "code",
      "metadata": {
        "id": "ln-56IUl6iVk",
        "colab_type": "code",
        "colab": {}
      },
      "source": [
        "Df1=pd.read_csv('/content/drive/My Drive/BCI MNIST/xvar1.csv')\n",
        "Df2=pd.read_csv('/content/drive/My Drive/BCI MNIST/xvar2.csv')\n",
        "Df3=pd.read_csv('/content/drive/My Drive/BCI MNIST/xvar3.csv')"
      ],
      "execution_count": 0,
      "outputs": []
    },
    {
      "cell_type": "code",
      "metadata": {
        "id": "VAcEgmdp_qQB",
        "colab_type": "code",
        "colab": {}
      },
      "source": [
        "bigdata = pd.concat([Df1, Df2, Df3], ignore_index=True, sort =False)\n",
        "del Df1\n",
        "del Df2\n",
        "del Df3"
      ],
      "execution_count": 0,
      "outputs": []
    },
    {
      "cell_type": "code",
      "metadata": {
        "id": "72od6WwFIi2k",
        "colab_type": "code",
        "outputId": "e412c5e3-892c-4db9-acfd-c69b3626d509",
        "colab": {
          "base_uri": "https://localhost:8080/",
          "height": 253
        }
      },
      "source": [
        "bigdata.drop(bigdata.columns[bigdata.columns.str.contains('unnamed',case = False)],axis = 1, inplace = True)\n",
        "bigdata.head()\n"
      ],
      "execution_count": 6,
      "outputs": [
        {
          "output_type": "execute_result",
          "data": {
            "text/html": [
              "<div>\n",
              "<style scoped>\n",
              "    .dataframe tbody tr th:only-of-type {\n",
              "        vertical-align: middle;\n",
              "    }\n",
              "\n",
              "    .dataframe tbody tr th {\n",
              "        vertical-align: top;\n",
              "    }\n",
              "\n",
              "    .dataframe thead th {\n",
              "        text-align: right;\n",
              "    }\n",
              "</style>\n",
              "<table border=\"1\" class=\"dataframe\">\n",
              "  <thead>\n",
              "    <tr style=\"text-align: right;\">\n",
              "      <th></th>\n",
              "      <th>0</th>\n",
              "      <th>1</th>\n",
              "      <th>2</th>\n",
              "      <th>3</th>\n",
              "      <th>4</th>\n",
              "      <th>5</th>\n",
              "      <th>6</th>\n",
              "      <th>7</th>\n",
              "      <th>8</th>\n",
              "      <th>9</th>\n",
              "      <th>10</th>\n",
              "      <th>11</th>\n",
              "      <th>12</th>\n",
              "      <th>13</th>\n",
              "      <th>14</th>\n",
              "      <th>15</th>\n",
              "      <th>16</th>\n",
              "      <th>17</th>\n",
              "      <th>18</th>\n",
              "      <th>19</th>\n",
              "      <th>20</th>\n",
              "      <th>21</th>\n",
              "      <th>22</th>\n",
              "      <th>23</th>\n",
              "      <th>24</th>\n",
              "      <th>25</th>\n",
              "      <th>26</th>\n",
              "      <th>27</th>\n",
              "      <th>28</th>\n",
              "      <th>29</th>\n",
              "      <th>30</th>\n",
              "      <th>31</th>\n",
              "      <th>32</th>\n",
              "      <th>33</th>\n",
              "      <th>34</th>\n",
              "      <th>35</th>\n",
              "      <th>36</th>\n",
              "      <th>37</th>\n",
              "      <th>38</th>\n",
              "      <th>39</th>\n",
              "      <th>...</th>\n",
              "      <th>3614</th>\n",
              "      <th>3615</th>\n",
              "      <th>3616</th>\n",
              "      <th>3617</th>\n",
              "      <th>3618</th>\n",
              "      <th>3619</th>\n",
              "      <th>3620</th>\n",
              "      <th>3621</th>\n",
              "      <th>3622</th>\n",
              "      <th>3623</th>\n",
              "      <th>3624</th>\n",
              "      <th>3625</th>\n",
              "      <th>3626</th>\n",
              "      <th>3627</th>\n",
              "      <th>3628</th>\n",
              "      <th>3629</th>\n",
              "      <th>3630</th>\n",
              "      <th>3631</th>\n",
              "      <th>3632</th>\n",
              "      <th>3633</th>\n",
              "      <th>3634</th>\n",
              "      <th>3635</th>\n",
              "      <th>3636</th>\n",
              "      <th>3637</th>\n",
              "      <th>3638</th>\n",
              "      <th>3639</th>\n",
              "      <th>3640</th>\n",
              "      <th>3641</th>\n",
              "      <th>3642</th>\n",
              "      <th>3643</th>\n",
              "      <th>3644</th>\n",
              "      <th>3645</th>\n",
              "      <th>3646</th>\n",
              "      <th>3647</th>\n",
              "      <th>3648</th>\n",
              "      <th>3649</th>\n",
              "      <th>3650</th>\n",
              "      <th>3651</th>\n",
              "      <th>3652</th>\n",
              "      <th>3653</th>\n",
              "    </tr>\n",
              "  </thead>\n",
              "  <tbody>\n",
              "    <tr>\n",
              "      <th>0</th>\n",
              "      <td>4395.384615</td>\n",
              "      <td>4382.564102</td>\n",
              "      <td>4377.435897</td>\n",
              "      <td>4387.179487</td>\n",
              "      <td>4395.897435</td>\n",
              "      <td>4398.461538</td>\n",
              "      <td>4396.923076</td>\n",
              "      <td>4391.794871</td>\n",
              "      <td>4391.282051</td>\n",
              "      <td>4395.897435</td>\n",
              "      <td>4398.974358</td>\n",
              "      <td>4396.410256</td>\n",
              "      <td>4392.820512</td>\n",
              "      <td>4392.820512</td>\n",
              "      <td>4395.384615</td>\n",
              "      <td>4398.974358</td>\n",
              "      <td>4394.358974</td>\n",
              "      <td>4381.538461</td>\n",
              "      <td>4376.410256</td>\n",
              "      <td>4383.589743</td>\n",
              "      <td>4387.179487</td>\n",
              "      <td>4388.717948</td>\n",
              "      <td>4397.948717</td>\n",
              "      <td>4401.538461</td>\n",
              "      <td>4397.948717</td>\n",
              "      <td>4398.974358</td>\n",
              "      <td>4398.974358</td>\n",
              "      <td>4395.897435</td>\n",
              "      <td>4396.923076</td>\n",
              "      <td>4398.461538</td>\n",
              "      <td>4397.948717</td>\n",
              "      <td>4396.410256</td>\n",
              "      <td>4391.794871</td>\n",
              "      <td>4389.743589</td>\n",
              "      <td>4389.743589</td>\n",
              "      <td>4385.641025</td>\n",
              "      <td>4387.692307</td>\n",
              "      <td>4393.846153</td>\n",
              "      <td>4389.743589</td>\n",
              "      <td>4381.025641</td>\n",
              "      <td>...</td>\n",
              "      <td>4065.128205</td>\n",
              "      <td>4060.512820</td>\n",
              "      <td>4062.564102</td>\n",
              "      <td>4065.128205</td>\n",
              "      <td>4067.179487</td>\n",
              "      <td>4069.230769</td>\n",
              "      <td>4068.717948</td>\n",
              "      <td>4065.641025</td>\n",
              "      <td>4063.589743</td>\n",
              "      <td>4063.076923</td>\n",
              "      <td>4065.128205</td>\n",
              "      <td>4066.153846</td>\n",
              "      <td>4059.487179</td>\n",
              "      <td>4055.384615</td>\n",
              "      <td>4057.948717</td>\n",
              "      <td>4058.974358</td>\n",
              "      <td>4053.846153</td>\n",
              "      <td>4057.948717</td>\n",
              "      <td>4068.205128</td>\n",
              "      <td>4065.128205</td>\n",
              "      <td>4054.871794</td>\n",
              "      <td>4051.794871</td>\n",
              "      <td>4054.871794</td>\n",
              "      <td>4057.435897</td>\n",
              "      <td>4056.410256</td>\n",
              "      <td>4060.000000</td>\n",
              "      <td>4063.076923</td>\n",
              "      <td>4056.410256</td>\n",
              "      <td>4050.256410</td>\n",
              "      <td>4055.897435</td>\n",
              "      <td>4059.487179</td>\n",
              "      <td>4055.384615</td>\n",
              "      <td>4056.923076</td>\n",
              "      <td>4065.128205</td>\n",
              "      <td>4068.717948</td>\n",
              "      <td>4062.051282</td>\n",
              "      <td>4052.820512</td>\n",
              "      <td>4058.974358</td>\n",
              "      <td>4070.769230</td>\n",
              "      <td>4335.038295</td>\n",
              "    </tr>\n",
              "    <tr>\n",
              "      <th>1</th>\n",
              "      <td>4385.641025</td>\n",
              "      <td>4381.538461</td>\n",
              "      <td>4386.666666</td>\n",
              "      <td>4383.589743</td>\n",
              "      <td>4374.358974</td>\n",
              "      <td>4378.974358</td>\n",
              "      <td>4389.743589</td>\n",
              "      <td>4388.205128</td>\n",
              "      <td>4381.538461</td>\n",
              "      <td>4383.076923</td>\n",
              "      <td>4386.153846</td>\n",
              "      <td>4380.512820</td>\n",
              "      <td>4385.128205</td>\n",
              "      <td>4397.948717</td>\n",
              "      <td>4394.871794</td>\n",
              "      <td>4382.564102</td>\n",
              "      <td>4384.102564</td>\n",
              "      <td>4390.256410</td>\n",
              "      <td>4390.256410</td>\n",
              "      <td>4393.333333</td>\n",
              "      <td>4392.820512</td>\n",
              "      <td>4381.025641</td>\n",
              "      <td>4373.333333</td>\n",
              "      <td>4380.512820</td>\n",
              "      <td>4389.743589</td>\n",
              "      <td>4386.153846</td>\n",
              "      <td>4380.512820</td>\n",
              "      <td>4386.666666</td>\n",
              "      <td>4399.487179</td>\n",
              "      <td>4398.461538</td>\n",
              "      <td>4387.179487</td>\n",
              "      <td>4384.615384</td>\n",
              "      <td>4385.128205</td>\n",
              "      <td>4383.076923</td>\n",
              "      <td>4382.564102</td>\n",
              "      <td>4384.615384</td>\n",
              "      <td>4385.128205</td>\n",
              "      <td>4383.589743</td>\n",
              "      <td>4385.641025</td>\n",
              "      <td>4392.820512</td>\n",
              "      <td>...</td>\n",
              "      <td>4071.282051</td>\n",
              "      <td>4072.820512</td>\n",
              "      <td>4069.230769</td>\n",
              "      <td>4064.615384</td>\n",
              "      <td>4068.717948</td>\n",
              "      <td>4073.846153</td>\n",
              "      <td>4070.256410</td>\n",
              "      <td>4062.564102</td>\n",
              "      <td>4063.589743</td>\n",
              "      <td>4071.794871</td>\n",
              "      <td>4071.282051</td>\n",
              "      <td>4071.794871</td>\n",
              "      <td>4081.025641</td>\n",
              "      <td>4075.897435</td>\n",
              "      <td>4063.076923</td>\n",
              "      <td>4064.102564</td>\n",
              "      <td>4072.820512</td>\n",
              "      <td>4077.948717</td>\n",
              "      <td>4070.256410</td>\n",
              "      <td>4056.923076</td>\n",
              "      <td>4060.000000</td>\n",
              "      <td>4073.333333</td>\n",
              "      <td>4075.384615</td>\n",
              "      <td>4068.205128</td>\n",
              "      <td>4062.051282</td>\n",
              "      <td>4063.589743</td>\n",
              "      <td>4072.307692</td>\n",
              "      <td>4072.307692</td>\n",
              "      <td>4069.743589</td>\n",
              "      <td>4081.025641</td>\n",
              "      <td>4086.153846</td>\n",
              "      <td>4073.333333</td>\n",
              "      <td>4069.230769</td>\n",
              "      <td>4074.871794</td>\n",
              "      <td>4070.256410</td>\n",
              "      <td>4066.153846</td>\n",
              "      <td>4071.794871</td>\n",
              "      <td>4071.282051</td>\n",
              "      <td>4057.435897</td>\n",
              "      <td>4335.038295</td>\n",
              "    </tr>\n",
              "    <tr>\n",
              "      <th>2</th>\n",
              "      <td>4380.512820</td>\n",
              "      <td>4389.743589</td>\n",
              "      <td>4395.897435</td>\n",
              "      <td>4395.384615</td>\n",
              "      <td>4386.666666</td>\n",
              "      <td>4384.615384</td>\n",
              "      <td>4392.307692</td>\n",
              "      <td>4393.846153</td>\n",
              "      <td>4391.794871</td>\n",
              "      <td>4396.410256</td>\n",
              "      <td>4398.461538</td>\n",
              "      <td>4397.948717</td>\n",
              "      <td>4401.538461</td>\n",
              "      <td>4398.974358</td>\n",
              "      <td>4390.769230</td>\n",
              "      <td>4387.692307</td>\n",
              "      <td>4389.230769</td>\n",
              "      <td>4393.333333</td>\n",
              "      <td>4394.871794</td>\n",
              "      <td>4387.692307</td>\n",
              "      <td>4385.641025</td>\n",
              "      <td>4391.794871</td>\n",
              "      <td>4392.307692</td>\n",
              "      <td>4386.153846</td>\n",
              "      <td>4381.025641</td>\n",
              "      <td>4384.102564</td>\n",
              "      <td>4390.256410</td>\n",
              "      <td>4391.794871</td>\n",
              "      <td>4390.769230</td>\n",
              "      <td>4396.410256</td>\n",
              "      <td>4400.000000</td>\n",
              "      <td>4392.820512</td>\n",
              "      <td>4387.692307</td>\n",
              "      <td>4390.769230</td>\n",
              "      <td>4392.307692</td>\n",
              "      <td>4391.794871</td>\n",
              "      <td>4389.230769</td>\n",
              "      <td>4383.076923</td>\n",
              "      <td>4385.128205</td>\n",
              "      <td>4394.871794</td>\n",
              "      <td>...</td>\n",
              "      <td>4080.000000</td>\n",
              "      <td>4080.512820</td>\n",
              "      <td>4065.128205</td>\n",
              "      <td>4066.666666</td>\n",
              "      <td>4076.923076</td>\n",
              "      <td>4081.025641</td>\n",
              "      <td>4085.128205</td>\n",
              "      <td>4088.717948</td>\n",
              "      <td>4083.076923</td>\n",
              "      <td>4078.461538</td>\n",
              "      <td>4075.897435</td>\n",
              "      <td>4072.307692</td>\n",
              "      <td>4074.358974</td>\n",
              "      <td>4075.384615</td>\n",
              "      <td>4070.256410</td>\n",
              "      <td>4070.769230</td>\n",
              "      <td>4077.435897</td>\n",
              "      <td>4078.461538</td>\n",
              "      <td>4074.871794</td>\n",
              "      <td>4072.307692</td>\n",
              "      <td>4070.256410</td>\n",
              "      <td>4071.282051</td>\n",
              "      <td>4071.794871</td>\n",
              "      <td>4074.871794</td>\n",
              "      <td>4085.128205</td>\n",
              "      <td>4089.230769</td>\n",
              "      <td>4082.564102</td>\n",
              "      <td>4077.948717</td>\n",
              "      <td>4080.000000</td>\n",
              "      <td>4078.974358</td>\n",
              "      <td>4076.410256</td>\n",
              "      <td>4081.538461</td>\n",
              "      <td>4084.102564</td>\n",
              "      <td>4077.435897</td>\n",
              "      <td>4076.923076</td>\n",
              "      <td>4336.868564</td>\n",
              "      <td>4335.124777</td>\n",
              "      <td>4334.595502</td>\n",
              "      <td>4334.855340</td>\n",
              "      <td>4335.038295</td>\n",
              "    </tr>\n",
              "    <tr>\n",
              "      <th>3</th>\n",
              "      <td>4395.897435</td>\n",
              "      <td>4390.769230</td>\n",
              "      <td>4403.589743</td>\n",
              "      <td>4411.282051</td>\n",
              "      <td>4410.256410</td>\n",
              "      <td>4404.615384</td>\n",
              "      <td>4395.897435</td>\n",
              "      <td>4397.435897</td>\n",
              "      <td>4403.076923</td>\n",
              "      <td>4396.923076</td>\n",
              "      <td>4391.794871</td>\n",
              "      <td>4395.384615</td>\n",
              "      <td>4394.358974</td>\n",
              "      <td>4393.333333</td>\n",
              "      <td>4397.948717</td>\n",
              "      <td>4399.487179</td>\n",
              "      <td>4395.897435</td>\n",
              "      <td>4395.384615</td>\n",
              "      <td>4401.025641</td>\n",
              "      <td>4405.641025</td>\n",
              "      <td>4401.025641</td>\n",
              "      <td>4393.333333</td>\n",
              "      <td>4393.333333</td>\n",
              "      <td>4398.461538</td>\n",
              "      <td>4401.538461</td>\n",
              "      <td>4401.025641</td>\n",
              "      <td>4397.435897</td>\n",
              "      <td>4397.948717</td>\n",
              "      <td>4398.461538</td>\n",
              "      <td>4397.435897</td>\n",
              "      <td>4403.076923</td>\n",
              "      <td>4408.205128</td>\n",
              "      <td>4398.974358</td>\n",
              "      <td>4385.641025</td>\n",
              "      <td>4390.256410</td>\n",
              "      <td>4400.000000</td>\n",
              "      <td>4397.948717</td>\n",
              "      <td>4395.384615</td>\n",
              "      <td>4399.487179</td>\n",
              "      <td>4400.000000</td>\n",
              "      <td>...</td>\n",
              "      <td>4061.025641</td>\n",
              "      <td>4055.897435</td>\n",
              "      <td>4069.743589</td>\n",
              "      <td>4077.435897</td>\n",
              "      <td>4063.076923</td>\n",
              "      <td>4056.410256</td>\n",
              "      <td>4069.230769</td>\n",
              "      <td>4072.307692</td>\n",
              "      <td>4061.025641</td>\n",
              "      <td>4053.846153</td>\n",
              "      <td>4062.051282</td>\n",
              "      <td>4073.333333</td>\n",
              "      <td>4072.820512</td>\n",
              "      <td>4068.717948</td>\n",
              "      <td>4071.794871</td>\n",
              "      <td>4069.230769</td>\n",
              "      <td>4061.538461</td>\n",
              "      <td>4069.230769</td>\n",
              "      <td>4078.461538</td>\n",
              "      <td>4074.871794</td>\n",
              "      <td>4069.743589</td>\n",
              "      <td>4063.589743</td>\n",
              "      <td>4058.461538</td>\n",
              "      <td>4063.589743</td>\n",
              "      <td>4068.717948</td>\n",
              "      <td>4059.487179</td>\n",
              "      <td>4052.820512</td>\n",
              "      <td>4059.487179</td>\n",
              "      <td>4061.025641</td>\n",
              "      <td>4055.897435</td>\n",
              "      <td>4059.487179</td>\n",
              "      <td>4070.256410</td>\n",
              "      <td>4069.230769</td>\n",
              "      <td>4062.564102</td>\n",
              "      <td>4062.564102</td>\n",
              "      <td>4060.512820</td>\n",
              "      <td>4063.589743</td>\n",
              "      <td>4076.410256</td>\n",
              "      <td>4082.564102</td>\n",
              "      <td>4072.820512</td>\n",
              "    </tr>\n",
              "    <tr>\n",
              "      <th>4</th>\n",
              "      <td>4395.384615</td>\n",
              "      <td>4385.128205</td>\n",
              "      <td>4382.051282</td>\n",
              "      <td>4390.769230</td>\n",
              "      <td>4387.179487</td>\n",
              "      <td>4374.358974</td>\n",
              "      <td>4376.923076</td>\n",
              "      <td>4379.487179</td>\n",
              "      <td>4371.282051</td>\n",
              "      <td>4374.358974</td>\n",
              "      <td>4384.615384</td>\n",
              "      <td>4385.641025</td>\n",
              "      <td>4385.128205</td>\n",
              "      <td>4386.666666</td>\n",
              "      <td>4381.538461</td>\n",
              "      <td>4381.538461</td>\n",
              "      <td>4391.282051</td>\n",
              "      <td>4389.743589</td>\n",
              "      <td>4384.102564</td>\n",
              "      <td>4386.153846</td>\n",
              "      <td>4382.051282</td>\n",
              "      <td>4375.384615</td>\n",
              "      <td>4385.641025</td>\n",
              "      <td>4393.846153</td>\n",
              "      <td>4386.666666</td>\n",
              "      <td>4388.205128</td>\n",
              "      <td>4395.897435</td>\n",
              "      <td>4389.230769</td>\n",
              "      <td>4377.948717</td>\n",
              "      <td>4380.512820</td>\n",
              "      <td>4390.256410</td>\n",
              "      <td>4391.794871</td>\n",
              "      <td>4383.589743</td>\n",
              "      <td>4382.051282</td>\n",
              "      <td>4394.871794</td>\n",
              "      <td>4405.128205</td>\n",
              "      <td>4401.538461</td>\n",
              "      <td>4398.461538</td>\n",
              "      <td>4396.923076</td>\n",
              "      <td>4391.794871</td>\n",
              "      <td>...</td>\n",
              "      <td>4075.897435</td>\n",
              "      <td>4069.743589</td>\n",
              "      <td>4063.589743</td>\n",
              "      <td>4061.538461</td>\n",
              "      <td>4065.128205</td>\n",
              "      <td>4068.205128</td>\n",
              "      <td>4063.589743</td>\n",
              "      <td>4058.974358</td>\n",
              "      <td>4063.076923</td>\n",
              "      <td>4069.743589</td>\n",
              "      <td>4071.282051</td>\n",
              "      <td>4070.256410</td>\n",
              "      <td>4070.769230</td>\n",
              "      <td>4075.384615</td>\n",
              "      <td>4071.794871</td>\n",
              "      <td>4056.923076</td>\n",
              "      <td>4051.282051</td>\n",
              "      <td>4057.948717</td>\n",
              "      <td>4060.000000</td>\n",
              "      <td>4056.923076</td>\n",
              "      <td>4058.974358</td>\n",
              "      <td>4067.179487</td>\n",
              "      <td>4070.256410</td>\n",
              "      <td>4062.564102</td>\n",
              "      <td>4055.384615</td>\n",
              "      <td>4062.051282</td>\n",
              "      <td>4073.846153</td>\n",
              "      <td>4071.794871</td>\n",
              "      <td>4063.076923</td>\n",
              "      <td>4069.230769</td>\n",
              "      <td>4077.948717</td>\n",
              "      <td>4069.743589</td>\n",
              "      <td>4061.538461</td>\n",
              "      <td>4066.666666</td>\n",
              "      <td>4066.153846</td>\n",
              "      <td>4062.051282</td>\n",
              "      <td>4056.410256</td>\n",
              "      <td>4045.641025</td>\n",
              "      <td>4049.743589</td>\n",
              "      <td>4335.038295</td>\n",
              "    </tr>\n",
              "  </tbody>\n",
              "</table>\n",
              "<p>5 rows × 3654 columns</p>\n",
              "</div>"
            ],
            "text/plain": [
              "             0            1            2  ...         3651         3652         3653\n",
              "0  4395.384615  4382.564102  4377.435897  ...  4058.974358  4070.769230  4335.038295\n",
              "1  4385.641025  4381.538461  4386.666666  ...  4071.282051  4057.435897  4335.038295\n",
              "2  4380.512820  4389.743589  4395.897435  ...  4334.595502  4334.855340  4335.038295\n",
              "3  4395.897435  4390.769230  4403.589743  ...  4076.410256  4082.564102  4072.820512\n",
              "4  4395.384615  4385.128205  4382.051282  ...  4045.641025  4049.743589  4335.038295\n",
              "\n",
              "[5 rows x 3654 columns]"
            ]
          },
          "metadata": {
            "tags": []
          },
          "execution_count": 6
        }
      ]
    },
    {
      "cell_type": "code",
      "metadata": {
        "id": "LljaJcVxIslc",
        "colab_type": "code",
        "colab": {}
      },
      "source": [
        "pdf1=pd.read_csv('/content/drive/My Drive/BCI MNIST/yvar1.csv')\n",
        "pdf2=pd.read_csv('/content/drive/My Drive/BCI MNIST/yvar2.csv')\n",
        "pdf3=pd.read_csv('/content/drive/My Drive/BCI MNIST/yvar3.csv')"
      ],
      "execution_count": 0,
      "outputs": []
    },
    {
      "cell_type": "code",
      "metadata": {
        "id": "qypUiETeLX-D",
        "colab_type": "code",
        "colab": {}
      },
      "source": [
        "bigpred = pd.concat([pdf1, pdf2, pdf3], ignore_index=True, sort =False)\n"
      ],
      "execution_count": 0,
      "outputs": []
    },
    {
      "cell_type": "code",
      "metadata": {
        "id": "3Oj7j-elRvcu",
        "colab_type": "code",
        "colab": {}
      },
      "source": [
        "bigpred=bigpred['0'].map({'-1-1-1-1-1-1-1-1-1-1-1-1-1-1':10,'88888888888888':8,'66666666666666':6,'00000000000000': 0,'99999999999999':9,'55555555555555':5,'22222222222222':2,'11111111111111':1,'77777777777777':7,'33333333333333':3,'44444444444444':4,88888888888888:8,66666666666666:6,00000000000000: 0,99999999999999:9,55555555555555:5,22222222222222:2,11111111111111:1,77777777777777:7,33333333333333:3,44444444444444:4})"
      ],
      "execution_count": 0,
      "outputs": []
    },
    {
      "cell_type": "code",
      "metadata": {
        "id": "VMBZZz2lLeBE",
        "colab_type": "code",
        "outputId": "5a493900-c4f3-4db8-ac1c-cab08c01ad86",
        "colab": {
          "base_uri": "https://localhost:8080/",
          "height": 34
        }
      },
      "source": [
        "del pdf1\n",
        "del pdf2\n",
        "del pdf3\n",
        "gc.collect()"
      ],
      "execution_count": 10,
      "outputs": [
        {
          "output_type": "execute_result",
          "data": {
            "text/plain": [
              "20"
            ]
          },
          "metadata": {
            "tags": []
          },
          "execution_count": 10
        }
      ]
    },
    {
      "cell_type": "code",
      "metadata": {
        "id": "_YINLtuoOba5",
        "colab_type": "code",
        "outputId": "e8b5f106-100c-4558-c5d4-fd22ce4dd425",
        "colab": {
          "base_uri": "https://localhost:8080/",
          "height": 34
        }
      },
      "source": [
        "len(bigpred.dropna())==len(bigpred)"
      ],
      "execution_count": 11,
      "outputs": [
        {
          "output_type": "execute_result",
          "data": {
            "text/plain": [
              "True"
            ]
          },
          "metadata": {
            "tags": []
          },
          "execution_count": 11
        }
      ]
    },
    {
      "cell_type": "code",
      "metadata": {
        "id": "5HK5YlvtSgFZ",
        "colab_type": "code",
        "outputId": "9f303475-66be-4c73-8cbe-b73fdd501b33",
        "colab": {
          "base_uri": "https://localhost:8080/",
          "height": 119
        }
      },
      "source": [
        "bigpred.head()"
      ],
      "execution_count": 12,
      "outputs": [
        {
          "output_type": "execute_result",
          "data": {
            "text/plain": [
              "0    6\n",
              "1    7\n",
              "2    9\n",
              "3    9\n",
              "4    0\n",
              "Name: 0, dtype: int64"
            ]
          },
          "metadata": {
            "tags": []
          },
          "execution_count": 12
        }
      ]
    },
    {
      "cell_type": "code",
      "metadata": {
        "id": "xBPc3Cf4Nbd7",
        "colab_type": "code",
        "outputId": "a6b9653b-d357-46f9-c2cc-de1e1fb70173",
        "colab": {
          "base_uri": "https://localhost:8080/",
          "height": 320
        }
      },
      "source": [
        "bigpred.drop(bigpred.columns[bigpred.columns.str.contains('unnamed',case = False)],axis = 1, inplace = True)\n",
        "#bigpred.head(100)"
      ],
      "execution_count": 0,
      "outputs": [
        {
          "output_type": "error",
          "ename": "AttributeError",
          "evalue": "ignored",
          "traceback": [
            "\u001b[0;31m---------------------------------------------------------------------------\u001b[0m",
            "\u001b[0;31mAttributeError\u001b[0m                            Traceback (most recent call last)",
            "\u001b[0;32m<ipython-input-16-5c84e3294d27>\u001b[0m in \u001b[0;36m<module>\u001b[0;34m()\u001b[0m\n\u001b[0;32m----> 1\u001b[0;31m \u001b[0mbigpred\u001b[0m\u001b[0;34m.\u001b[0m\u001b[0mdrop\u001b[0m\u001b[0;34m(\u001b[0m\u001b[0mbigpred\u001b[0m\u001b[0;34m.\u001b[0m\u001b[0mcolumns\u001b[0m\u001b[0;34m[\u001b[0m\u001b[0mbigpred\u001b[0m\u001b[0;34m.\u001b[0m\u001b[0mcolumns\u001b[0m\u001b[0;34m.\u001b[0m\u001b[0mstr\u001b[0m\u001b[0;34m.\u001b[0m\u001b[0mcontains\u001b[0m\u001b[0;34m(\u001b[0m\u001b[0;34m'unnamed'\u001b[0m\u001b[0;34m,\u001b[0m\u001b[0mcase\u001b[0m \u001b[0;34m=\u001b[0m \u001b[0;32mFalse\u001b[0m\u001b[0;34m)\u001b[0m\u001b[0;34m]\u001b[0m\u001b[0;34m,\u001b[0m\u001b[0maxis\u001b[0m \u001b[0;34m=\u001b[0m \u001b[0;36m1\u001b[0m\u001b[0;34m,\u001b[0m \u001b[0minplace\u001b[0m \u001b[0;34m=\u001b[0m \u001b[0;32mTrue\u001b[0m\u001b[0;34m)\u001b[0m\u001b[0;34m\u001b[0m\u001b[0;34m\u001b[0m\u001b[0m\n\u001b[0m\u001b[1;32m      2\u001b[0m \u001b[0;31m#bigpred.head(100)\u001b[0m\u001b[0;34m\u001b[0m\u001b[0;34m\u001b[0m\u001b[0;34m\u001b[0m\u001b[0m\n",
            "\u001b[0;32m/usr/local/lib/python3.6/dist-packages/pandas/core/generic.py\u001b[0m in \u001b[0;36m__getattr__\u001b[0;34m(self, name)\u001b[0m\n\u001b[1;32m   5173\u001b[0m             \u001b[0;32mor\u001b[0m \u001b[0mname\u001b[0m \u001b[0;32min\u001b[0m \u001b[0mself\u001b[0m\u001b[0;34m.\u001b[0m\u001b[0m_accessors\u001b[0m\u001b[0;34m\u001b[0m\u001b[0;34m\u001b[0m\u001b[0m\n\u001b[1;32m   5174\u001b[0m         ):\n\u001b[0;32m-> 5175\u001b[0;31m             \u001b[0;32mreturn\u001b[0m \u001b[0mobject\u001b[0m\u001b[0;34m.\u001b[0m\u001b[0m__getattribute__\u001b[0m\u001b[0;34m(\u001b[0m\u001b[0mself\u001b[0m\u001b[0;34m,\u001b[0m \u001b[0mname\u001b[0m\u001b[0;34m)\u001b[0m\u001b[0;34m\u001b[0m\u001b[0;34m\u001b[0m\u001b[0m\n\u001b[0m\u001b[1;32m   5176\u001b[0m         \u001b[0;32melse\u001b[0m\u001b[0;34m:\u001b[0m\u001b[0;34m\u001b[0m\u001b[0;34m\u001b[0m\u001b[0m\n\u001b[1;32m   5177\u001b[0m             \u001b[0;32mif\u001b[0m \u001b[0mself\u001b[0m\u001b[0;34m.\u001b[0m\u001b[0m_info_axis\u001b[0m\u001b[0;34m.\u001b[0m\u001b[0m_can_hold_identifiers_and_holds_name\u001b[0m\u001b[0;34m(\u001b[0m\u001b[0mname\u001b[0m\u001b[0;34m)\u001b[0m\u001b[0;34m:\u001b[0m\u001b[0;34m\u001b[0m\u001b[0;34m\u001b[0m\u001b[0m\n",
            "\u001b[0;31mAttributeError\u001b[0m: 'Series' object has no attribute 'columns'"
          ]
        }
      ]
    },
    {
      "cell_type": "code",
      "metadata": {
        "id": "9OXsffciLlhd",
        "colab_type": "code",
        "outputId": "858e444f-3365-4fbd-d72c-673d88b9dfb5",
        "colab": {
          "base_uri": "https://localhost:8080/",
          "height": 34
        }
      },
      "source": [
        "len(bigdata)==len(bigpred)"
      ],
      "execution_count": 13,
      "outputs": [
        {
          "output_type": "execute_result",
          "data": {
            "text/plain": [
              "True"
            ]
          },
          "metadata": {
            "tags": []
          },
          "execution_count": 13
        }
      ]
    },
    {
      "cell_type": "code",
      "metadata": {
        "id": "GpD9aJXGLqdu",
        "colab_type": "code",
        "colab": {}
      },
      "source": [
        "#Import models from scikit learn module:\n",
        "from sklearn.linear_model import LogisticRegression\n",
        "from sklearn.model_selection import KFold   #For K-fold cross validation\n",
        "from sklearn.ensemble import RandomForestClassifier\n",
        "from sklearn.svm import SVC\n",
        "from sklearn.tree import DecisionTreeClassifier, export_graphviz\n",
        "from sklearn import metrics\n",
        "import numpy as np\n",
        "from sklearn.metrics import roc_curve, auc, precision_score, confusion_matrix, explained_variance_score, max_error, mean_absolute_error, mean_squared_error\n",
        "from sklearn.linear_model import LogisticRegression, LinearRegression, Ridge, Lasso\n",
        "\n",
        "#Generic function for making a classification model and accessing performance:\n",
        "def classification_model(model, predictors, outcome):\n",
        "  history=model.fit(predictors,outcome.values.ravel())\n",
        "  \n",
        "  predictions = model.predict(predictors)\n",
        "  \n",
        "  accuracy = metrics.accuracy_score(predictions,outcome)\n",
        "  print('Accuracy : %s' % '{0:.3%}'.format(accuracy))\n",
        "\n",
        "  kf = KFold(n_splits=2)\n",
        "  error = []\n",
        "  for train, test in kf.split(predictors):\n",
        "    train_predictors = (predictors.iloc[train,:])\n",
        "    \n",
        "    train_target = outcome.iloc[train]\n",
        "    \n",
        "    model.fit(train_predictors, train_target.values.ravel())\n",
        "    \n",
        "    error.append(model.score(predictors.iloc[test,:], outcome.iloc[test]))\n",
        " \n",
        "  print('Cross-Validation Score : %s' % '{0:.3%}'.format(np.mean(error)))\n",
        "\n",
        "  return history"
      ],
      "execution_count": 0,
      "outputs": []
    },
    {
      "cell_type": "code",
      "metadata": {
        "id": "IctR9mDZNUo8",
        "colab_type": "code",
        "outputId": "25fc1087-da9c-4799-e160-b037822098b4",
        "colab": {
          "base_uri": "https://localhost:8080/",
          "height": 204
        }
      },
      "source": [
        "idx = np.random.permutation(df1.index)"
      ],
      "execution_count": 0,
      "outputs": [
        {
          "output_type": "execute_result",
          "data": {
            "text/html": [
              "<div>\n",
              "<style scoped>\n",
              "    .dataframe tbody tr th:only-of-type {\n",
              "        vertical-align: middle;\n",
              "    }\n",
              "\n",
              "    .dataframe tbody tr th {\n",
              "        vertical-align: top;\n",
              "    }\n",
              "\n",
              "    .dataframe thead th {\n",
              "        text-align: right;\n",
              "    }\n",
              "</style>\n",
              "<table border=\"1\" class=\"dataframe\">\n",
              "  <thead>\n",
              "    <tr style=\"text-align: right;\">\n",
              "      <th></th>\n",
              "      <th>0</th>\n",
              "    </tr>\n",
              "  </thead>\n",
              "  <tbody>\n",
              "    <tr>\n",
              "      <th>0</th>\n",
              "      <td>66666666666666</td>\n",
              "    </tr>\n",
              "    <tr>\n",
              "      <th>1</th>\n",
              "      <td>77777777777777</td>\n",
              "    </tr>\n",
              "    <tr>\n",
              "      <th>2</th>\n",
              "      <td>99999999999999</td>\n",
              "    </tr>\n",
              "    <tr>\n",
              "      <th>3</th>\n",
              "      <td>99999999999999</td>\n",
              "    </tr>\n",
              "    <tr>\n",
              "      <th>4</th>\n",
              "      <td>0</td>\n",
              "    </tr>\n",
              "  </tbody>\n",
              "</table>\n",
              "</div>"
            ],
            "text/plain": [
              "                0\n",
              "0  66666666666666\n",
              "1  77777777777777\n",
              "2  99999999999999\n",
              "3  99999999999999\n",
              "4               0"
            ]
          },
          "metadata": {
            "tags": []
          },
          "execution_count": 34
        }
      ]
    },
    {
      "cell_type": "code",
      "metadata": {
        "id": "6D0OwDLYwOui",
        "colab_type": "code",
        "colab": {
          "base_uri": "https://localhost:8080/",
          "height": 51
        },
        "outputId": "f70c190d-a7c8-4e9a-8e41-d2cd27c8fe51"
      },
      "source": [
        "from sklearn.model_selection import train_test_split\n",
        "df=bigdata\n",
        "bigdata=(df-df.values.min())/(df.values.max()-df.values.min())\n",
        "print('start')\n",
        "X_train, X_test, y_train, y_test = train_test_split(bigdata, bigpred, test_size=0.20, random_state=42)\n",
        "model = Lasso(alpha=0.1, copy_X=True, fit_intercept=True, max_iter=1000,normalize=False, positive=False, precompute=False, random_state=None,selection='cyclic', tol=0.0001, warm_start=False)\n",
        "model.fit(X_train,y_train)\n",
        "print('stop')"
      ],
      "execution_count": 32,
      "outputs": [
        {
          "output_type": "stream",
          "text": [
            "start\n",
            "stop\n"
          ],
          "name": "stdout"
        }
      ]
    },
    {
      "cell_type": "code",
      "metadata": {
        "id": "Zhfnto0BMbcn",
        "colab_type": "code",
        "colab": {}
      },
      "source": [
        "#scaler = StandardScaler()\n",
        "\n",
        "idx = np.random.permutation(X_test.index)\n",
        "X_test=X_test.reindex(idx)\n",
        "y_test=y_test.reindex(idx)\n",
        "predictions = model.predict(X_test)\n",
        "#prc=precision_score(predictions,y_test, average=None)\n",
        "#cfm=confusion_matrix(predictions,y_test)\n",
        "#accuracy = metrics.accuracy_score(predictions,y_test)\n",
        "#false_positive_rate, true_positive_rate, thresholds = roc_curve(y_test, predictions)\n",
        "#auc = auc(false_positive_rate, true_positive_rate)\n",
        "#print(accuracy)\n",
        "#print(prc)\n",
        "#print(cfm)\n",
        "#history=classification_model(model,X_test,y_test)"
      ],
      "execution_count": 0,
      "outputs": []
    },
    {
      "cell_type": "code",
      "metadata": {
        "id": "GxBhYzrVK4jz",
        "colab_type": "code",
        "colab": {
          "base_uri": "https://localhost:8080/",
          "height": 85
        },
        "outputId": "016a976f-9b3a-4aee-f527-27270cc7ff14"
      },
      "source": [
        "print(explained_variance_score(predictions,y_test))\n",
        "print(max_error(predictions,y_test))\n",
        "print(mean_absolute_error(predictions, y_test, multioutput='raw_values'))\n",
        "print(mean_squared_error(predictions, y_test, multioutput='raw_values'))"
      ],
      "execution_count": 34,
      "outputs": [
        {
          "output_type": "stream",
          "text": [
            "-1.0554790365055712e+31\n",
            "5.474521864488227\n",
            "[2.50961315]\n",
            "[8.32680019]\n"
          ],
          "name": "stdout"
        }
      ]
    }
  ]
}